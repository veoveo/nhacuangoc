{
  "nbformat": 4,
  "nbformat_minor": 0,
  "metadata": {
    "colab": {
      "provenance": [],
      "include_colab_link": true
    },
    "kernelspec": {
      "name": "python3",
      "display_name": "Python 3"
    },
    "language_info": {
      "name": "python"
    }
  },
  "cells": [
    {
      "cell_type": "markdown",
      "metadata": {
        "id": "view-in-github",
        "colab_type": "text"
      },
      "source": [
        "<a href=\"https://colab.research.google.com/github/veoveo/nhacuangoc/blob/main/nnbot.ipynb\" target=\"_parent\"><img src=\"https://colab.research.google.com/assets/colab-badge.svg\" alt=\"Open In Colab\"/></a>"
      ]
    },
    {
      "cell_type": "markdown",
      "source": [
        "⬇️Nhấn vào nút tròn ở dưới để chạy nnbot"
      ],
      "metadata": {
        "id": "OB8DFP6dTBEQ"
      }
    },
    {
      "cell_type": "code",
      "execution_count": null,
      "metadata": {
        "colab": {
          "base_uri": "https://localhost:8080/"
        },
        "cellView": "form",
        "id": "EQd5TcHJO1xe",
        "outputId": "1acdcf35-50ec-4a08-e7fe-d304a11e34b9"
      },
      "outputs": [
        {
          "output_type": "stream",
          "name": "stdout",
          "text": [
            "nnbot đang hoạt động với live 4114990\n",
            "225 - thành công\n"
          ]
        }
      ],
      "source": [
        "#@title\n",
        "link_share = \"https://live.shopee.vn/share?from=live&session=4114990&viewer=0#pcshare\" #@param {type:\"string\"}\n",
        "import requests\n",
        "import json\n",
        "import re\n",
        "import uuid\n",
        "import time\n",
        "from urllib import parse\n",
        "import urllib3\n",
        "urllib3.disable_warnings()\n",
        "\n",
        "\n",
        "def get_rc(id):\n",
        "  r = requests.get(\"https://live.shopee.vn/api/v1/session/\"+str(id))\n",
        "  return \"https://chatroom-live.shopee.vn/api/v1/fetch/chatroom/\" + r.json()['data']['session']['chatroom_id'] + f\"/message?uuid={tmp_uuid}&version=v2\"\n",
        "\n",
        "def check_string(input_string):\n",
        "    pattern = r'^@[\\d]+$'\n",
        "    return bool(re.match(pattern, input_string))\n",
        "\n",
        "def get_mess(url):\n",
        "  r = requests.get(url)\n",
        "  a = r.json()['data']['message']\n",
        "  for i in a:\n",
        "    for j in i['msgs']:\n",
        "      c = json.loads(j['content'])['content']\n",
        "      if check_string(c) and li.count(str(j[\"id\"]) + \" - \" + c) ==0:\n",
        "        if len(li) >= 15:\n",
        "            li.clear()\n",
        "        li.append(str(j[\"id\"]) + \" - \" + c)\n",
        "        try:\n",
        "          ghim_sp(c[1:])\n",
        "        except:\n",
        "          pass\n",
        "\n",
        "def while_mess():\n",
        "  global usersig, tmp_uuid\n",
        "  shopee_token = \"V+3qYPB93woBSdS/7KnlhCzZw/xCgm6g/m/Dhpn92O049kTO43gLOpFjBrqjgCvy\"\n",
        "  tmp_uuid = uuid.uuid1()\n",
        "  url_join = f\"https://live.shopee.vn/api/v1/session/{ss2}/join\"\n",
        "  body = {\"uuid\": str(tmp_uuid), \"avatar\": \"https://cf.shopee.vn/file/c0dc089ea6c6f4740d3b6133540d57ec_tn\"}\n",
        "  response = requests.post(url_join, data=json.dumps(body), headers={'Content-Type': 'application/json; charset=UTF-8','Cookie': 'shopee_token=V+3qYPB93woBSdS/7KnlhCzZw/xCgm6g/m/Dhpn92O049kTO43gLOpFjBrqjgCvy;SPC_EC=0123456789'}, verify=False).json()\n",
        "  usersig = response['data']['usersig']\n",
        "\n",
        "li = []\n",
        "def ghim_sp(id):\n",
        "  it = next(item for item in requests.get(f\"https://live.shopee.vn/api/v1/session/{ss2}/more_items?offset=0&limit=1000\").json()[\"data\"][\"items\"] if item[\"id\"] == int(id))\n",
        "  content = '{\\\"content\\\":\\\"🛒'+str(id)+\" nhấn vào đây\"+'\\\",\\\"item_id\\\":'+str(it[\"item_id\"])+',\\\"shop_id\\\":'+str(it[\"shop_id\"])+',\\\"type\\\":100}'\n",
        "  url_sendMsg = f\"https://live.shopee.vn/api/v1/session/{ss2}/items/\"+str(it[\"item_id\"])+\"/ask_host\"\n",
        "  body = {\"uuid\": str(tmp_uuid), \"usersig\": usersig, \"content\": content, \"shop_id\": it[\"shop_id\"]}\n",
        "  if requests.post(url_sendMsg, data=json.dumps(body), headers={'Content-Type': 'application/json; charset=UTF-8', 'Cookie': 'shopee_token=V+3qYPB93woBSdS/7KnlhCzZw/xCgm6g/m/Dhpn92O049kTO43gLOpFjBrqjgCvy;SPC_EC=0123456789'}, verify=True).json()[\"err_code\"] == 1000:\n",
        "    get_mess()\n",
        "  else:\n",
        "    print(str(id)+\" - thành công\")\n",
        "ss2 = parse.parse_qs(parse.urlparse(link_share).query)['session'][0]\n",
        "print(\"nnbot đang hoạt động với live \" + ss2)\n",
        "li = []\n",
        "while_mess()\n",
        "url_chat = get_rc(ss2)\n",
        "while True:\n",
        "  time.sleep(0.1)\n",
        "  try:\n",
        "    get_mess(url_chat)\n",
        "  except:\n",
        "    pass"
      ]
    },
    {
      "cell_type": "markdown",
      "source": [
        "Nút tròn đang quay là nnbot đang hoạt động"
      ],
      "metadata": {
        "id": "3y6gXL5ZTSiR"
      }
    }
  ]
}